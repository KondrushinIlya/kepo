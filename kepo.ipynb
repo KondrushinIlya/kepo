{
  "nbformat": 4,
  "nbformat_minor": 0,
  "metadata": {
    "colab": {
      "name": "kepo",
      "provenance": [],
      "authorship_tag": "ABX9TyM5ySfhsH6XVkFiH6Icwx+t",
      "include_colab_link": true
    },
    "kernelspec": {
      "name": "python3",
      "display_name": "Python 3"
    },
    "language_info": {
      "name": "python"
    }
  },
  "cells": [
    {
      "cell_type": "markdown",
      "metadata": {
        "id": "view-in-github",
        "colab_type": "text"
      },
      "source": [
        "<a href=\"https://colab.research.google.com/github/KondrushinIlya/kepo/blob/master/kepo.ipynb\" target=\"_parent\"><img src=\"https://colab.research.google.com/assets/colab-badge.svg\" alt=\"Open In Colab\"/></a>"
      ]
    },
    {
      "cell_type": "code",
      "metadata": {
        "colab": {
          "base_uri": "https://localhost:8080/",
          "height": 128
        },
        "id": "HZ4LeDqjD2dw",
        "outputId": "5da8d719-298e-4fed-adcb-650415a171de"
      },
      "source": [
        "#@title Form\n",
        "sleeptime = 6 #@param {type:\"integer\"}\n",
        "Runtime / Run all"
      ],
      "execution_count": 25,
      "outputs": [
        {
          "output_type": "error",
          "ename": "SyntaxError",
          "evalue": "ignored",
          "traceback": [
            "\u001b[0;36m  File \u001b[0;32m\"<ipython-input-25-a14dbf1021ae>\"\u001b[0;36m, line \u001b[0;32m3\u001b[0m\n\u001b[0;31m    Runtime / Run all\u001b[0m\n\u001b[0m                    ^\u001b[0m\n\u001b[0;31mSyntaxError\u001b[0m\u001b[0;31m:\u001b[0m invalid syntax\n"
          ]
        }
      ]
    },
    {
      "cell_type": "code",
      "metadata": {
        "colab": {
          "base_uri": "https://localhost:8080/"
        },
        "id": "01GrqfxDEzrm",
        "outputId": "00caefdc-4b52-4384-a59e-8fd9968e248f"
      },
      "source": [
        "import time\n",
        "print(time.ctime())\n",
        "time.sleep(sleeptime)\n",
        "print (time.ctime())"
      ],
      "execution_count": 21,
      "outputs": [
        {
          "output_type": "stream",
          "text": [
            "Tue Apr 13 21:20:20 2021\n",
            "Tue Apr 13 21:20:26 2021\n"
          ],
          "name": "stdout"
        }
      ]
    },
    {
      "cell_type": "code",
      "metadata": {
        "colab": {
          "base_uri": "https://localhost:8080/",
          "height": 128
        },
        "id": "BvgVbbyrFBkS",
        "outputId": "72b4398d-d6dd-4349-ae03-f7902cd4de34"
      },
      "source": [
        "Runtime/Run all"
      ],
      "execution_count": 18,
      "outputs": [
        {
          "output_type": "error",
          "ename": "SyntaxError",
          "evalue": "ignored",
          "traceback": [
            "\u001b[0;36m  File \u001b[0;32m\"<ipython-input-18-48c34b59fdc3>\"\u001b[0;36m, line \u001b[0;32m1\u001b[0m\n\u001b[0;31m    Runtime/Run all\u001b[0m\n\u001b[0m                  ^\u001b[0m\n\u001b[0;31mSyntaxError\u001b[0m\u001b[0;31m:\u001b[0m invalid syntax\n"
          ]
        }
      ]
    },
    {
      "cell_type": "code",
      "metadata": {
        "colab": {
          "base_uri": "https://localhost:8080/"
        },
        "id": "Wf1FfVT7HG-t",
        "outputId": "fdd88953-8be5-4010-b6a3-522909275bc5"
      },
      "source": [
        "name = 'Tutorialspoint' #@param {type:\"string\"}\n",
        "print(name)"
      ],
      "execution_count": 22,
      "outputs": [
        {
          "output_type": "stream",
          "text": [
            "Tutorialspoint\n"
          ],
          "name": "stdout"
        }
      ]
    },
    {
      "cell_type": "code",
      "metadata": {
        "colab": {
          "base_uri": "https://localhost:8080/"
        },
        "id": "gXHBveYUHVRq",
        "outputId": "e7230057-4b09-4095-d8e2-e45df946209b"
      },
      "source": [
        "color = 'green' #@param [\"red\", \"green\", \"blue\"]\n",
        "print(color)"
      ],
      "execution_count": 23,
      "outputs": [
        {
          "output_type": "stream",
          "text": [
            "green\n"
          ],
          "name": "stdout"
        }
      ]
    },
    {
      "cell_type": "code",
      "metadata": {
        "colab": {
          "base_uri": "https://localhost:8080/"
        },
        "id": "pLSeRNDMHj-a",
        "outputId": "ac5a3121-c907-489c-c19d-8657a1ba5451"
      },
      "source": [
        "#@title Date fields\n",
        "date_input = '2019-06-03' #@param {type:\"date\"}\n",
        "print(date_input)"
      ],
      "execution_count": 24,
      "outputs": [
        {
          "output_type": "stream",
          "text": [
            "2019-06-03\n"
          ],
          "name": "stdout"
        }
      ]
    },
    {
      "cell_type": "code",
      "metadata": {
        "colab": {
          "base_uri": "https://localhost:8080/"
        },
        "id": "a5JWYJ0OIco6",
        "outputId": "842c278f-63b3-436e-f10d-58172bb4a21c"
      },
      "source": [
        "!pip install"
      ],
      "execution_count": 26,
      "outputs": [
        {
          "output_type": "stream",
          "text": [
            "\u001b[31mERROR: You must give at least one requirement to install (see \"pip help install\")\u001b[0m\n"
          ],
          "name": "stdout"
        }
      ]
    },
    {
      "cell_type": "code",
      "metadata": {
        "colab": {
          "base_uri": "https://localhost:8080/"
        },
        "id": "s-KC3f30IgP6",
        "outputId": "2de72429-2fe4-4c9f-d9e0-5e94b16ac928"
      },
      "source": [
        "!apt-get install"
      ],
      "execution_count": 27,
      "outputs": [
        {
          "output_type": "stream",
          "text": [
            "Reading package lists... Done\n",
            "Building dependency tree       \n",
            "Reading state information... Done\n",
            "0 upgraded, 0 newly installed, 0 to remove and 31 not upgraded.\n"
          ],
          "name": "stdout"
        }
      ]
    },
    {
      "cell_type": "code",
      "metadata": {
        "id": "hOp_Ke7cIoZC"
      },
      "source": [
        "!pip install -q keras"
      ],
      "execution_count": 28,
      "outputs": []
    },
    {
      "cell_type": "code",
      "metadata": {
        "colab": {
          "base_uri": "https://localhost:8080/"
        },
        "id": "LDOG0BekIs_N",
        "outputId": "c39e4367-af36-4931-9854-950a853b3a1c"
      },
      "source": [
        "!pip3 install torch torchvision"
      ],
      "execution_count": 29,
      "outputs": [
        {
          "output_type": "stream",
          "text": [
            "Requirement already satisfied: torch in /usr/local/lib/python3.7/dist-packages (1.8.1+cu101)\n",
            "Requirement already satisfied: torchvision in /usr/local/lib/python3.7/dist-packages (0.9.1+cu101)\n",
            "Requirement already satisfied: typing-extensions in /usr/local/lib/python3.7/dist-packages (from torch) (3.7.4.3)\n",
            "Requirement already satisfied: numpy in /usr/local/lib/python3.7/dist-packages (from torch) (1.19.5)\n",
            "Requirement already satisfied: pillow>=4.1.1 in /usr/local/lib/python3.7/dist-packages (from torchvision) (7.1.2)\n"
          ],
          "name": "stdout"
        }
      ]
    },
    {
      "cell_type": "code",
      "metadata": {
        "colab": {
          "base_uri": "https://localhost:8080/"
        },
        "id": "CAsmway2Ix-S",
        "outputId": "e1997f82-b26f-4315-e5e8-a5e2b289b0fb"
      },
      "source": [
        "!apt install libnvrtc8.0\n",
        "!pip install mxnet-cu80"
      ],
      "execution_count": 30,
      "outputs": [
        {
          "output_type": "stream",
          "text": [
            "Reading package lists... Done\n",
            "Building dependency tree       \n",
            "Reading state information... Done\n",
            "E: Unable to locate package libnvrtc8.0\n",
            "E: Couldn't find any package by glob 'libnvrtc8.0'\n",
            "E: Couldn't find any package by regex 'libnvrtc8.0'\n",
            "Collecting mxnet-cu80\n",
            "\u001b[?25l  Downloading https://files.pythonhosted.org/packages/a5/3a/35bd08de97e7025dc65a4087ac08b6e87fa537d17cdaa14993f5db4cbdc5/mxnet_cu80-1.5.0-py2.py3-none-manylinux1_x86_64.whl (372.1MB)\n",
            "\u001b[K     |████████████████████████████████| 372.1MB 45kB/s \n",
            "\u001b[?25hRequirement already satisfied: requests<3,>=2.20.0 in /usr/local/lib/python3.7/dist-packages (from mxnet-cu80) (2.23.0)\n",
            "Collecting graphviz<0.9.0,>=0.8.1\n",
            "  Downloading https://files.pythonhosted.org/packages/53/39/4ab213673844e0c004bed8a0781a0721a3f6bb23eb8854ee75c236428892/graphviz-0.8.4-py2.py3-none-any.whl\n",
            "Requirement already satisfied: numpy<2.0.0,>1.16.0 in /usr/local/lib/python3.7/dist-packages (from mxnet-cu80) (1.19.5)\n",
            "Requirement already satisfied: certifi>=2017.4.17 in /usr/local/lib/python3.7/dist-packages (from requests<3,>=2.20.0->mxnet-cu80) (2020.12.5)\n",
            "Requirement already satisfied: urllib3!=1.25.0,!=1.25.1,<1.26,>=1.21.1 in /usr/local/lib/python3.7/dist-packages (from requests<3,>=2.20.0->mxnet-cu80) (1.24.3)\n",
            "Requirement already satisfied: idna<3,>=2.5 in /usr/local/lib/python3.7/dist-packages (from requests<3,>=2.20.0->mxnet-cu80) (2.10)\n",
            "Requirement already satisfied: chardet<4,>=3.0.2 in /usr/local/lib/python3.7/dist-packages (from requests<3,>=2.20.0->mxnet-cu80) (3.0.4)\n",
            "Installing collected packages: graphviz, mxnet-cu80\n",
            "  Found existing installation: graphviz 0.10.1\n",
            "    Uninstalling graphviz-0.10.1:\n",
            "      Successfully uninstalled graphviz-0.10.1\n",
            "Successfully installed graphviz-0.8.4 mxnet-cu80-1.5.0\n"
          ],
          "name": "stdout"
        }
      ]
    },
    {
      "cell_type": "code",
      "metadata": {
        "colab": {
          "base_uri": "https://localhost:8080/"
        },
        "id": "eJHJNl-hI90a",
        "outputId": "fd36597b-d45f-46d2-901c-072c999eb665"
      },
      "source": [
        "!apt-get -qq install -y libsm6 libxext6 && pip install -q -U opencv-python"
      ],
      "execution_count": 31,
      "outputs": [
        {
          "output_type": "stream",
          "text": [
            "\u001b[K     |████████████████████████████████| 50.4MB 87kB/s \n",
            "\u001b[31mERROR: albumentations 0.1.12 has requirement imgaug<0.2.7,>=0.2.5, but you'll have imgaug 0.2.9 which is incompatible.\u001b[0m\n",
            "\u001b[?25h"
          ],
          "name": "stdout"
        }
      ]
    },
    {
      "cell_type": "code",
      "metadata": {
        "id": "JHg5RdOmJIdC"
      },
      "source": [
        "!apt-get -qq install -y libsm6 libxext6 && pip install -q -U opencv-python"
      ],
      "execution_count": 32,
      "outputs": []
    },
    {
      "cell_type": "code",
      "metadata": {
        "colab": {
          "base_uri": "https://localhost:8080/"
        },
        "id": "V6VID_IhJO8y",
        "outputId": "3dd9126e-387d-41b2-a893-771cf70fe9d7"
      },
      "source": [
        "!pip install -q xgboost==0.4a30"
      ],
      "execution_count": 33,
      "outputs": [
        {
          "output_type": "stream",
          "text": [
            "\u001b[?25l\r\u001b[K     |▍                               | 10kB 19.8MB/s eta 0:00:01\r\u001b[K     |▉                               | 20kB 22.6MB/s eta 0:00:01\r\u001b[K     |█▎                              | 30kB 26.7MB/s eta 0:00:01\r\u001b[K     |█▊                              | 40kB 29.2MB/s eta 0:00:01\r\u001b[K     |██▏                             | 51kB 30.1MB/s eta 0:00:01\r\u001b[K     |██▋                             | 61kB 19.7MB/s eta 0:00:01\r\u001b[K     |███                             | 71kB 19.6MB/s eta 0:00:01\r\u001b[K     |███▌                            | 81kB 18.7MB/s eta 0:00:01\r\u001b[K     |████                            | 92kB 18.6MB/s eta 0:00:01\r\u001b[K     |████▍                           | 102kB 19.6MB/s eta 0:00:01\r\u001b[K     |████▉                           | 112kB 19.6MB/s eta 0:00:01\r\u001b[K     |█████▏                          | 122kB 19.6MB/s eta 0:00:01\r\u001b[K     |█████▋                          | 133kB 19.6MB/s eta 0:00:01\r\u001b[K     |██████                          | 143kB 19.6MB/s eta 0:00:01\r\u001b[K     |██████▌                         | 153kB 19.6MB/s eta 0:00:01\r\u001b[K     |███████                         | 163kB 19.6MB/s eta 0:00:01\r\u001b[K     |███████▍                        | 174kB 19.6MB/s eta 0:00:01\r\u001b[K     |███████▉                        | 184kB 19.6MB/s eta 0:00:01\r\u001b[K     |████████▎                       | 194kB 19.6MB/s eta 0:00:01\r\u001b[K     |████████▊                       | 204kB 19.6MB/s eta 0:00:01\r\u001b[K     |█████████▏                      | 215kB 19.6MB/s eta 0:00:01\r\u001b[K     |█████████▋                      | 225kB 19.6MB/s eta 0:00:01\r\u001b[K     |██████████                      | 235kB 19.6MB/s eta 0:00:01\r\u001b[K     |██████████▍                     | 245kB 19.6MB/s eta 0:00:01\r\u001b[K     |██████████▉                     | 256kB 19.6MB/s eta 0:00:01\r\u001b[K     |███████████▎                    | 266kB 19.6MB/s eta 0:00:01\r\u001b[K     |███████████▊                    | 276kB 19.6MB/s eta 0:00:01\r\u001b[K     |████████████▏                   | 286kB 19.6MB/s eta 0:00:01\r\u001b[K     |████████████▋                   | 296kB 19.6MB/s eta 0:00:01\r\u001b[K     |█████████████                   | 307kB 19.6MB/s eta 0:00:01\r\u001b[K     |█████████████▌                  | 317kB 19.6MB/s eta 0:00:01\r\u001b[K     |██████████████                  | 327kB 19.6MB/s eta 0:00:01\r\u001b[K     |██████████████▍                 | 337kB 19.6MB/s eta 0:00:01\r\u001b[K     |██████████████▉                 | 348kB 19.6MB/s eta 0:00:01\r\u001b[K     |███████████████▏                | 358kB 19.6MB/s eta 0:00:01\r\u001b[K     |███████████████▋                | 368kB 19.6MB/s eta 0:00:01\r\u001b[K     |████████████████                | 378kB 19.6MB/s eta 0:00:01\r\u001b[K     |████████████████▌               | 389kB 19.6MB/s eta 0:00:01\r\u001b[K     |█████████████████               | 399kB 19.6MB/s eta 0:00:01\r\u001b[K     |█████████████████▍              | 409kB 19.6MB/s eta 0:00:01\r\u001b[K     |█████████████████▉              | 419kB 19.6MB/s eta 0:00:01\r\u001b[K     |██████████████████▎             | 430kB 19.6MB/s eta 0:00:01\r\u001b[K     |██████████████████▊             | 440kB 19.6MB/s eta 0:00:01\r\u001b[K     |███████████████████▏            | 450kB 19.6MB/s eta 0:00:01\r\u001b[K     |███████████████████▋            | 460kB 19.6MB/s eta 0:00:01\r\u001b[K     |████████████████████            | 471kB 19.6MB/s eta 0:00:01\r\u001b[K     |████████████████████▍           | 481kB 19.6MB/s eta 0:00:01\r\u001b[K     |████████████████████▉           | 491kB 19.6MB/s eta 0:00:01\r\u001b[K     |█████████████████████▎          | 501kB 19.6MB/s eta 0:00:01\r\u001b[K     |█████████████████████▊          | 512kB 19.6MB/s eta 0:00:01\r\u001b[K     |██████████████████████▏         | 522kB 19.6MB/s eta 0:00:01\r\u001b[K     |██████████████████████▋         | 532kB 19.6MB/s eta 0:00:01\r\u001b[K     |███████████████████████         | 542kB 19.6MB/s eta 0:00:01\r\u001b[K     |███████████████████████▌        | 552kB 19.6MB/s eta 0:00:01\r\u001b[K     |████████████████████████        | 563kB 19.6MB/s eta 0:00:01\r\u001b[K     |████████████████████████▍       | 573kB 19.6MB/s eta 0:00:01\r\u001b[K     |████████████████████████▉       | 583kB 19.6MB/s eta 0:00:01\r\u001b[K     |█████████████████████████▏      | 593kB 19.6MB/s eta 0:00:01\r\u001b[K     |█████████████████████████▋      | 604kB 19.6MB/s eta 0:00:01\r\u001b[K     |██████████████████████████      | 614kB 19.6MB/s eta 0:00:01\r\u001b[K     |██████████████████████████▌     | 624kB 19.6MB/s eta 0:00:01\r\u001b[K     |███████████████████████████     | 634kB 19.6MB/s eta 0:00:01\r\u001b[K     |███████████████████████████▍    | 645kB 19.6MB/s eta 0:00:01\r\u001b[K     |███████████████████████████▉    | 655kB 19.6MB/s eta 0:00:01\r\u001b[K     |████████████████████████████▎   | 665kB 19.6MB/s eta 0:00:01\r\u001b[K     |████████████████████████████▊   | 675kB 19.6MB/s eta 0:00:01\r\u001b[K     |█████████████████████████████▏  | 686kB 19.6MB/s eta 0:00:01\r\u001b[K     |█████████████████████████████▋  | 696kB 19.6MB/s eta 0:00:01\r\u001b[K     |██████████████████████████████  | 706kB 19.6MB/s eta 0:00:01\r\u001b[K     |██████████████████████████████▍ | 716kB 19.6MB/s eta 0:00:01\r\u001b[K     |██████████████████████████████▉ | 727kB 19.6MB/s eta 0:00:01\r\u001b[K     |███████████████████████████████▎| 737kB 19.6MB/s eta 0:00:01\r\u001b[K     |███████████████████████████████▊| 747kB 19.6MB/s eta 0:00:01\r\u001b[K     |████████████████████████████████| 757kB 19.6MB/s \n",
            "\u001b[?25h  Building wheel for xgboost (setup.py) ... \u001b[?25l\u001b[?25hdone\n"
          ],
          "name": "stdout"
        }
      ]
    },
    {
      "cell_type": "code",
      "metadata": {
        "id": "lwinT_KuJX5q"
      },
      "source": [
        "!apt-get -qq install -y graphviz && pip install -q pydot"
      ],
      "execution_count": 34,
      "outputs": []
    }
  ]
}